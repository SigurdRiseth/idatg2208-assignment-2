{
 "cells": [
  {
   "cell_type": "markdown",
   "metadata": {},
   "source": [
    "# Exercise 2: Decision Trees\n",
    "\n",
    "This notebook covers the implementation and analysis of Decision Tree algorithms for machine learning tasks."
   ]
  },
  {
   "cell_type": "markdown",
   "metadata": {},
   "source": [
    "## 1. Import Required Libraries\n",
    "\n",
    "Import the necessary libraries for Decision Tree implementation and analysis."
   ]
  },
  {
   "cell_type": "code",
   "execution_count": null,
   "metadata": {},
   "outputs": [],
   "source": [
    "# Import necessary libraries\n",
    "import pandas as pd\n",
    "import numpy as np\n",
    "import matplotlib.pyplot as plt\n",
    "import seaborn as sns\n",
    "from sklearn.model_selection import train_test_split, GridSearchCV\n",
    "from sklearn.metrics import accuracy_score, precision_score, recall_score, roc_auc_score\n",
    "import graphviz\n",
    "from sklearn.tree import export_graphviz\n",
    "from sklearn.datasets import load_breast_cancer\n",
    "from sklearn.preprocessing import StandardScaler\n",
    "\n",
    "# Set random seed for reproducibility\n",
    "np.random.seed(42)\n",
    "\n",
    "# Configure plotting\n",
    "plt.style.use('default')\n",
    "sns.set_palette(\"husl\")\n",
    "plt.rcParams['figure.figsize'] = (12, 8)"
   ]
  },
  {
   "cell_type": "markdown",
   "metadata": {},
   "source": [
    "## 2. Load, Split and Preprocess Data\n",
    "\n",
    "First, load the dataset and split it into training, validation, and test sets (60/20/20)."
   ]
  },
  {
   "cell_type": "code",
   "execution_count": 20,
   "metadata": {},
   "outputs": [
    {
     "name": "stdout",
     "output_type": "stream",
     "text": [
      "(341, 30) (114, 30) (114, 30)\n"
     ]
    }
   ],
   "source": [
    "# Load dataset\n",
    "data = load_breast_cancer()\n",
    "X = pd.DataFrame(data.data, columns=data.feature_names)\n",
    "y = pd.Series(data.target, name=\"target\")\n",
    "\n",
    "# 60% train, 20% validation, 20% test\n",
    "X_train, X_temp, y_train, y_temp = train_test_split(X, y, test_size=0.4, stratify=y, random_state=42)\n",
    "X_val, X_test, y_val, y_test = train_test_split(X_temp, y_temp, test_size=0.5, stratify=y_temp, random_state=42)\n",
    "\n",
    "print(X_train.shape, X_val.shape, X_test.shape)"
   ]
  },
  {
   "cell_type": "markdown",
   "metadata": {},
   "source": [
    "Then, preprocess the data by scaling the features using `StandardScaler`."
   ]
  },
  {
   "cell_type": "code",
   "execution_count": 21,
   "metadata": {},
   "outputs": [],
   "source": [
    "scaler = StandardScaler()\n",
    "X_train_scaled = scaler.fit_transform(X_train)\n",
    "X_val_scaled = scaler.transform(X_val)\n",
    "X_test_scaled = scaler.transform(X_test)"
   ]
  },
  {
   "cell_type": "markdown",
   "metadata": {},
   "source": [
    "## 3. Basic Decision Tree Implementation\n",
    "\n",
    "Implement a basic Decision Tree model with default parameters."
   ]
  },
  {
   "cell_type": "code",
   "execution_count": 22,
   "metadata": {},
   "outputs": [
    {
     "name": "stdout",
     "output_type": "stream",
     "text": [
      "test_accuracy: 0.909 ± 0.017\n",
      "test_precision: 0.934 ± 0.010\n",
      "test_recall: 0.921 ± 0.024\n",
      "test_roc_auc: 0.905 ± 0.016\n"
     ]
    }
   ],
   "source": [
    "from sklearn.tree import DecisionTreeClassifier\n",
    "from sklearn.model_selection import cross_validate, StratifiedKFold\n",
    "\n",
    "dt = DecisionTreeClassifier(random_state=42)\n",
    "\n",
    "cv = StratifiedKFold(n_splits=5, shuffle=True, random_state=42)\n",
    "\n",
    "scores = cross_validate(\n",
    "    dt, X_train_scaled, y_train,\n",
    "    cv=cv,\n",
    "    scoring=['accuracy', 'precision', 'recall', 'roc_auc'],\n",
    "    return_train_score=True\n",
    ")\n",
    "\n",
    "for metric in ['test_accuracy', 'test_precision', 'test_recall', 'test_roc_auc']:\n",
    "    print(f\"{metric}: {scores[metric].mean():.3f} ± {scores[metric].std():.3f}\")"
   ]
  },
  {
   "cell_type": "markdown",
   "metadata": {},
   "source": [
    "### Feature Importance\n",
    "\n",
    "Now we will analyze the feature importance of the trained Decision Tree model."
   ]
  },
  {
   "cell_type": "code",
   "execution_count": 23,
   "metadata": {},
   "outputs": [
    {
     "name": "stdout",
     "output_type": "stream",
     "text": [
      "worst radius: 0.7110\n",
      "worst concave points: 0.1580\n",
      "texture error: 0.0390\n"
     ]
    }
   ],
   "source": [
    "dt.fit(X_train_scaled, y_train)\n",
    "importances = dt.feature_importances_\n",
    "\n",
    "# Sort features by importance\n",
    "indices = importances.argsort()[::-1]\n",
    "for idx in indices[:3]:\n",
    "    print(f\"{X_train.columns[idx]}: {importances[idx]:.4f}\")"
   ]
  },
  {
   "cell_type": "markdown",
   "metadata": {},
   "source": [
    "Here, we see that the three most important features are:\n",
    "- worst radius with a feature importance of 0.7110\n",
    "- worst concave points with a feature importance of 0.1580\n",
    "- texture error with a feature importance of 0.0390\n",
    "\n",
    "These three features together account for approximately 90.8% of the total feature importance, indicating that they play a significant role in the model's decision-making process.\n",
    "\n",
    "### Depth Analysis\n",
    "\n",
    "Analyze the effect of tree depth on model performance by training Decision Trees with varying depths and evaluating their accuracy on the validation set."
   ]
  },
  {
   "cell_type": "code",
   "execution_count": 24,
   "metadata": {},
   "outputs": [
    {
     "name": "stdout",
     "output_type": "stream",
     "text": [
      "Depth 2: 0.947 ± 0.020\n",
      "Depth 4: 0.927 ± 0.009\n",
      "Depth 6: 0.921 ± 0.015\n",
      "Depth 8: 0.909 ± 0.017\n",
      "Depth 10: 0.909 ± 0.017\n"
     ]
    }
   ],
   "source": [
    "depths = [2, 4, 6, 8, 10]\n",
    "for d in depths:\n",
    "    dt = DecisionTreeClassifier(max_depth=d, random_state=42)\n",
    "    scores = cross_validate(dt, X_train_scaled, y_train, cv=cv, scoring='accuracy')\n",
    "    print(f\"Depth {d}: {scores['test_score'].mean():.3f} ± {scores['test_score'].std():.3f}\")"
   ]
  },
  {
   "cell_type": "markdown",
   "metadata": {},
   "source": [
    "We observe that the accuracy on the accuracy on the validation set is highest at a depth of 2, and decreases as the depth increases beyond that point. This suggests that a depth of 2 provides the best balance between model complexity and generalization to unseen data.\n",
    "\n",
    "Decision trees, if left unconstrained, will adapt itself to the training data, leading to overfitting. By limiting the depth of the tree, we can control its complexity and improve its ability to generalize to new data (Géron, p. 268, 2019)."
   ]
  },
  {
   "cell_type": "markdown",
   "metadata": {},
   "source": [
    "### Evaluate the Model\n",
    "\n",
    "We will now perform a grid search to find the optimal hyperparameters for the Decision Tree model."
   ]
  },
  {
   "cell_type": "code",
   "execution_count": 25,
   "metadata": {},
   "outputs": [
    {
     "name": "stdout",
     "output_type": "stream",
     "text": [
      "Best params: {'max_depth': 2, 'min_samples_leaf': 5}\n",
      "Best CV accuracy: 0.9530264279624895\n",
      "Validation accuracy: 0.956140350877193\n"
     ]
    }
   ],
   "source": [
    "param_grid = {\n",
    "    'max_depth': [2, 3, 4, 5, 7, None],\n",
    "    'min_samples_leaf': [1, 2, 4, 5, 10, 20]\n",
    "}\n",
    "\n",
    "grid_search = GridSearchCV(\n",
    "    dt, param_grid,\n",
    "    cv=cv,\n",
    "    scoring='accuracy',\n",
    "    n_jobs=-1\n",
    ")\n",
    "grid_search.fit(X_train_scaled, y_train)\n",
    "\n",
    "print(\"Best params:\", grid_search.best_params_)\n",
    "print(\"Best CV accuracy:\", grid_search.best_score_)\n",
    "\n",
    "# Evaluate on validation set\n",
    "val_acc = grid_search.score(X_val_scaled, y_val)\n",
    "print(\"Validation accuracy:\", val_acc)"
   ]
  },
  {
   "cell_type": "markdown",
   "metadata": {},
   "source": [
    "#### Max Depth Analysis\n",
    "\n",
    "By analyzing the effect of the `max_depth` parameter on model performance, we can determine the optimal value for this parameter. The parameter controls the maximum depth of the tree, which can help prevent overfitting.\n",
    "\n",
    "We observe that the accuracy on the accuracy on the validation set is highest at a depth of 2, and decreases as the depth increases beyond that point. This suggests that a depth of 2 provides the best balance between model complexity and generalization to unseen data.\n",
    "\n",
    "#### Minimum Samples per Leaf Analysis\n",
    "\n",
    "By analyzing the effect of the `min_samples_leaf` parameter on model performance, we can determine the optimal value for this parameter. The parameter controls the minimum number of samples required to be at a leaf node, which can help prevent overfitting.\n",
    "\n",
    "Here we see that the Decision Tree model performs best when the `min_samples_leaf` parameter is set to five. This means that each leaf node in the tree must contain at least five samples, which helps to prevent overfitting and improve the model's generalization to unseen data. The accuracy of the model with this parameter setting is 0.953.\n",
    "\n",
    "## 4. Test the Model\n",
    "\n",
    "Finally, evaluate the best model on the test set to assess its performance on unseen data."
   ]
  },
  {
   "cell_type": "code",
   "execution_count": null,
   "metadata": {},
   "outputs": [
    {
     "name": "stdout",
     "output_type": "stream",
     "text": [
      "Test Accuracy: 0.9035087719298246\n",
      "Test Precision: 0.9411764705882353\n",
      "Test Recall: 0.9014084507042254\n",
      "Test AUC: 0.9264657713724206\n"
     ]
    }
   ],
   "source": [
    "# Combine train + val\n",
    "X_combined = np.vstack((X_train_scaled, X_val_scaled))\n",
    "y_combined = np.hstack((y_train, y_val))\n",
    "\n",
    "best_dt = DecisionTreeClassifier(**grid_search.best_params_, random_state=42)\n",
    "best_dt.fit(X_combined, y_combined)\n",
    "\n",
    "y_pred = best_dt.predict(X_test_scaled)\n",
    "\n",
    "print(\"Test Accuracy:\", accuracy_score(y_test, y_pred))\n",
    "print(\"Test Precision:\", precision_score(y_test, y_pred))\n",
    "print(\"Test Recall:\", recall_score(y_test, y_pred))\n",
    "print(\"Test AUC:\", roc_auc_score(y_test, best_dt.predict_proba(X_test_scaled)[:, 1]))"
   ]
  },
  {
   "cell_type": "code",
   "execution_count": 27,
   "metadata": {},
   "outputs": [
    {
     "data": {
      "image/svg+xml": [
       "<?xml version=\"1.0\" encoding=\"UTF-8\" standalone=\"no\"?>\n",
       "<!DOCTYPE svg PUBLIC \"-//W3C//DTD SVG 1.1//EN\"\n",
       " \"http://www.w3.org/Graphics/SVG/1.1/DTD/svg11.dtd\">\n",
       "<!-- Generated by graphviz version 14.0.1 (20251006.0113)\n",
       " -->\n",
       "<!-- Title: Tree Pages: 1 -->\n",
       "<svg width=\"539pt\" height=\"314pt\"\n",
       " viewBox=\"0.00 0.00 539.00 314.00\" xmlns=\"http://www.w3.org/2000/svg\" xmlns:xlink=\"http://www.w3.org/1999/xlink\">\n",
       "<g id=\"graph0\" class=\"graph\" transform=\"scale(1 1) rotate(0) translate(4 310)\">\n",
       "<title>Tree</title>\n",
       "<polygon fill=\"white\" stroke=\"none\" points=\"-4,4 -4,-310 535.38,-310 535.38,4 -4,4\"/>\n",
       "<!-- 0 -->\n",
       "<g id=\"node1\" class=\"node\">\n",
       "<title>0</title>\n",
       "<path fill=\"#aed7f4\" stroke=\"black\" d=\"M352.5,-306C352.5,-306 174.5,-306 174.5,-306 168.5,-306 162.5,-300 162.5,-294 162.5,-294 162.5,-235 162.5,-235 162.5,-229 168.5,-223 174.5,-223 174.5,-223 352.5,-223 352.5,-223 358.5,-223 364.5,-229 364.5,-235 364.5,-235 364.5,-294 364.5,-294 364.5,-300 358.5,-306 352.5,-306\"/>\n",
       "<text xml:space=\"preserve\" text-anchor=\"middle\" x=\"263.5\" y=\"-288.7\" font-family=\"Helvetica,sans-Serif\" font-size=\"14.00\">mean concave points &lt;= 0.096</text>\n",
       "<text xml:space=\"preserve\" text-anchor=\"middle\" x=\"263.5\" y=\"-273.7\" font-family=\"Helvetica,sans-Serif\" font-size=\"14.00\">gini = 0.467</text>\n",
       "<text xml:space=\"preserve\" text-anchor=\"middle\" x=\"263.5\" y=\"-258.7\" font-family=\"Helvetica,sans-Serif\" font-size=\"14.00\">samples = 455</text>\n",
       "<text xml:space=\"preserve\" text-anchor=\"middle\" x=\"263.5\" y=\"-243.7\" font-family=\"Helvetica,sans-Serif\" font-size=\"14.00\">value = [169, 286]</text>\n",
       "<text xml:space=\"preserve\" text-anchor=\"middle\" x=\"263.5\" y=\"-228.7\" font-family=\"Helvetica,sans-Serif\" font-size=\"14.00\">class = benign</text>\n",
       "</g>\n",
       "<!-- 1 -->\n",
       "<g id=\"node2\" class=\"node\">\n",
       "<title>1</title>\n",
       "<path fill=\"#43a2e6\" stroke=\"black\" d=\"M236.75,-187C236.75,-187 114.25,-187 114.25,-187 108.25,-187 102.25,-181 102.25,-175 102.25,-175 102.25,-116 102.25,-116 102.25,-110 108.25,-104 114.25,-104 114.25,-104 236.75,-104 236.75,-104 242.75,-104 248.75,-110 248.75,-116 248.75,-116 248.75,-175 248.75,-175 248.75,-181 242.75,-187 236.75,-187\"/>\n",
       "<text xml:space=\"preserve\" text-anchor=\"middle\" x=\"175.5\" y=\"-169.7\" font-family=\"Helvetica,sans-Serif\" font-size=\"14.00\">worst radius &lt;= 0.131</text>\n",
       "<text xml:space=\"preserve\" text-anchor=\"middle\" x=\"175.5\" y=\"-154.7\" font-family=\"Helvetica,sans-Serif\" font-size=\"14.00\">gini = 0.094</text>\n",
       "<text xml:space=\"preserve\" text-anchor=\"middle\" x=\"175.5\" y=\"-139.7\" font-family=\"Helvetica,sans-Serif\" font-size=\"14.00\">samples = 282</text>\n",
       "<text xml:space=\"preserve\" text-anchor=\"middle\" x=\"175.5\" y=\"-124.7\" font-family=\"Helvetica,sans-Serif\" font-size=\"14.00\">value = [14, 268]</text>\n",
       "<text xml:space=\"preserve\" text-anchor=\"middle\" x=\"175.5\" y=\"-109.7\" font-family=\"Helvetica,sans-Serif\" font-size=\"14.00\">class = benign</text>\n",
       "</g>\n",
       "<!-- 0&#45;&gt;1 -->\n",
       "<g id=\"edge1\" class=\"edge\">\n",
       "<title>0&#45;&gt;1</title>\n",
       "<path fill=\"none\" stroke=\"black\" d=\"M232.72,-222.58C226.32,-214.07 219.51,-205.01 212.9,-196.23\"/>\n",
       "<polygon fill=\"black\" stroke=\"black\" points=\"215.83,-194.3 207.02,-188.41 210.24,-198.51 215.83,-194.3\"/>\n",
       "<text xml:space=\"preserve\" text-anchor=\"middle\" x=\"202.61\" y=\"-206.15\" font-family=\"Helvetica,sans-Serif\" font-size=\"14.00\">True</text>\n",
       "</g>\n",
       "<!-- 4 -->\n",
       "<g id=\"node5\" class=\"node\">\n",
       "<title>4</title>\n",
       "<path fill=\"#e89050\" stroke=\"black\" d=\"M426.5,-187C426.5,-187 278.5,-187 278.5,-187 272.5,-187 266.5,-181 266.5,-175 266.5,-175 266.5,-116 266.5,-116 266.5,-110 272.5,-104 278.5,-104 278.5,-104 426.5,-104 426.5,-104 432.5,-104 438.5,-110 438.5,-116 438.5,-116 438.5,-175 438.5,-175 438.5,-181 432.5,-187 426.5,-187\"/>\n",
       "<text xml:space=\"preserve\" text-anchor=\"middle\" x=\"352.5\" y=\"-169.7\" font-family=\"Helvetica,sans-Serif\" font-size=\"14.00\">worst perimeter &lt;= &#45;0.148</text>\n",
       "<text xml:space=\"preserve\" text-anchor=\"middle\" x=\"352.5\" y=\"-154.7\" font-family=\"Helvetica,sans-Serif\" font-size=\"14.00\">gini = 0.186</text>\n",
       "<text xml:space=\"preserve\" text-anchor=\"middle\" x=\"352.5\" y=\"-139.7\" font-family=\"Helvetica,sans-Serif\" font-size=\"14.00\">samples = 173</text>\n",
       "<text xml:space=\"preserve\" text-anchor=\"middle\" x=\"352.5\" y=\"-124.7\" font-family=\"Helvetica,sans-Serif\" font-size=\"14.00\">value = [155, 18]</text>\n",
       "<text xml:space=\"preserve\" text-anchor=\"middle\" x=\"352.5\" y=\"-109.7\" font-family=\"Helvetica,sans-Serif\" font-size=\"14.00\">class = malignant</text>\n",
       "</g>\n",
       "<!-- 0&#45;&gt;4 -->\n",
       "<g id=\"edge4\" class=\"edge\">\n",
       "<title>0&#45;&gt;4</title>\n",
       "<path fill=\"none\" stroke=\"black\" d=\"M294.63,-222.58C301.1,-214.07 307.99,-205.01 314.67,-196.23\"/>\n",
       "<polygon fill=\"black\" stroke=\"black\" points=\"317.35,-198.48 320.62,-188.4 311.78,-194.24 317.35,-198.48\"/>\n",
       "<text xml:space=\"preserve\" text-anchor=\"middle\" x=\"324.91\" y=\"-206.17\" font-family=\"Helvetica,sans-Serif\" font-size=\"14.00\">False</text>\n",
       "</g>\n",
       "<!-- 2 -->\n",
       "<g id=\"node3\" class=\"node\">\n",
       "<title>2</title>\n",
       "<path fill=\"#3c9ee5\" stroke=\"black\" d=\"M97,-68C97,-68 12,-68 12,-68 6,-68 0,-62 0,-56 0,-56 0,-12 0,-12 0,-6 6,0 12,0 12,0 97,0 97,0 103,0 109,-6 109,-12 109,-12 109,-56 109,-56 109,-62 103,-68 97,-68\"/>\n",
       "<text xml:space=\"preserve\" text-anchor=\"middle\" x=\"54.5\" y=\"-50.7\" font-family=\"Helvetica,sans-Serif\" font-size=\"14.00\">gini = 0.03</text>\n",
       "<text xml:space=\"preserve\" text-anchor=\"middle\" x=\"54.5\" y=\"-35.7\" font-family=\"Helvetica,sans-Serif\" font-size=\"14.00\">samples = 267</text>\n",
       "<text xml:space=\"preserve\" text-anchor=\"middle\" x=\"54.5\" y=\"-20.7\" font-family=\"Helvetica,sans-Serif\" font-size=\"14.00\">value = [4, 263]</text>\n",
       "<text xml:space=\"preserve\" text-anchor=\"middle\" x=\"54.5\" y=\"-5.7\" font-family=\"Helvetica,sans-Serif\" font-size=\"14.00\">class = benign</text>\n",
       "</g>\n",
       "<!-- 1&#45;&gt;2 -->\n",
       "<g id=\"edge2\" class=\"edge\">\n",
       "<title>1&#45;&gt;2</title>\n",
       "<path fill=\"none\" stroke=\"black\" d=\"M130.44,-103.73C120.37,-94.61 109.67,-84.93 99.59,-75.81\"/>\n",
       "<polygon fill=\"black\" stroke=\"black\" points=\"102.18,-73.43 92.42,-69.32 97.49,-78.62 102.18,-73.43\"/>\n",
       "</g>\n",
       "<!-- 3 -->\n",
       "<g id=\"node4\" class=\"node\">\n",
       "<title>3</title>\n",
       "<path fill=\"#f2c09c\" stroke=\"black\" d=\"M236.38,-68C236.38,-68 138.62,-68 138.62,-68 132.62,-68 126.62,-62 126.62,-56 126.62,-56 126.62,-12 126.62,-12 126.62,-6 132.62,0 138.62,0 138.62,0 236.38,0 236.38,0 242.38,0 248.38,-6 248.38,-12 248.38,-12 248.38,-56 248.38,-56 248.38,-62 242.38,-68 236.38,-68\"/>\n",
       "<text xml:space=\"preserve\" text-anchor=\"middle\" x=\"187.5\" y=\"-50.7\" font-family=\"Helvetica,sans-Serif\" font-size=\"14.00\">gini = 0.444</text>\n",
       "<text xml:space=\"preserve\" text-anchor=\"middle\" x=\"187.5\" y=\"-35.7\" font-family=\"Helvetica,sans-Serif\" font-size=\"14.00\">samples = 15</text>\n",
       "<text xml:space=\"preserve\" text-anchor=\"middle\" x=\"187.5\" y=\"-20.7\" font-family=\"Helvetica,sans-Serif\" font-size=\"14.00\">value = [10, 5]</text>\n",
       "<text xml:space=\"preserve\" text-anchor=\"middle\" x=\"187.5\" y=\"-5.7\" font-family=\"Helvetica,sans-Serif\" font-size=\"14.00\">class = malignant</text>\n",
       "</g>\n",
       "<!-- 1&#45;&gt;3 -->\n",
       "<g id=\"edge3\" class=\"edge\">\n",
       "<title>1&#45;&gt;3</title>\n",
       "<path fill=\"none\" stroke=\"black\" d=\"M179.97,-103.73C180.83,-95.88 181.73,-87.63 182.6,-79.67\"/>\n",
       "<polygon fill=\"black\" stroke=\"black\" points=\"186.08,-80.13 183.69,-69.8 179.12,-79.36 186.08,-80.13\"/>\n",
       "</g>\n",
       "<!-- 5 -->\n",
       "<g id=\"node6\" class=\"node\">\n",
       "<title>5</title>\n",
       "<path fill=\"#81c1ee\" stroke=\"black\" d=\"M380,-68C380,-68 301,-68 301,-68 295,-68 289,-62 289,-56 289,-56 289,-12 289,-12 289,-6 295,0 301,0 301,0 380,0 380,0 386,0 392,-6 392,-12 392,-12 392,-56 392,-56 392,-62 386,-68 380,-68\"/>\n",
       "<text xml:space=\"preserve\" text-anchor=\"middle\" x=\"340.5\" y=\"-50.7\" font-family=\"Helvetica,sans-Serif\" font-size=\"14.00\">gini = 0.391</text>\n",
       "<text xml:space=\"preserve\" text-anchor=\"middle\" x=\"340.5\" y=\"-35.7\" font-family=\"Helvetica,sans-Serif\" font-size=\"14.00\">samples = 15</text>\n",
       "<text xml:space=\"preserve\" text-anchor=\"middle\" x=\"340.5\" y=\"-20.7\" font-family=\"Helvetica,sans-Serif\" font-size=\"14.00\">value = [4, 11]</text>\n",
       "<text xml:space=\"preserve\" text-anchor=\"middle\" x=\"340.5\" y=\"-5.7\" font-family=\"Helvetica,sans-Serif\" font-size=\"14.00\">class = benign</text>\n",
       "</g>\n",
       "<!-- 4&#45;&gt;5 -->\n",
       "<g id=\"edge5\" class=\"edge\">\n",
       "<title>4&#45;&gt;5</title>\n",
       "<path fill=\"none\" stroke=\"black\" d=\"M348.03,-103.73C347.17,-95.88 346.27,-87.63 345.4,-79.67\"/>\n",
       "<polygon fill=\"black\" stroke=\"black\" points=\"348.88,-79.36 344.31,-69.8 341.92,-80.13 348.88,-79.36\"/>\n",
       "</g>\n",
       "<!-- 6 -->\n",
       "<g id=\"node7\" class=\"node\">\n",
       "<title>6</title>\n",
       "<path fill=\"#e68742\" stroke=\"black\" d=\"M519.38,-68C519.38,-68 421.62,-68 421.62,-68 415.62,-68 409.62,-62 409.62,-56 409.62,-56 409.62,-12 409.62,-12 409.62,-6 415.62,0 421.62,0 421.62,0 519.38,0 519.38,0 525.38,0 531.38,-6 531.38,-12 531.38,-12 531.38,-56 531.38,-56 531.38,-62 525.38,-68 519.38,-68\"/>\n",
       "<text xml:space=\"preserve\" text-anchor=\"middle\" x=\"470.5\" y=\"-50.7\" font-family=\"Helvetica,sans-Serif\" font-size=\"14.00\">gini = 0.085</text>\n",
       "<text xml:space=\"preserve\" text-anchor=\"middle\" x=\"470.5\" y=\"-35.7\" font-family=\"Helvetica,sans-Serif\" font-size=\"14.00\">samples = 158</text>\n",
       "<text xml:space=\"preserve\" text-anchor=\"middle\" x=\"470.5\" y=\"-20.7\" font-family=\"Helvetica,sans-Serif\" font-size=\"14.00\">value = [151, 7]</text>\n",
       "<text xml:space=\"preserve\" text-anchor=\"middle\" x=\"470.5\" y=\"-5.7\" font-family=\"Helvetica,sans-Serif\" font-size=\"14.00\">class = malignant</text>\n",
       "</g>\n",
       "<!-- 4&#45;&gt;6 -->\n",
       "<g id=\"edge6\" class=\"edge\">\n",
       "<title>4&#45;&gt;6</title>\n",
       "<path fill=\"none\" stroke=\"black\" d=\"M396.44,-103.73C406.17,-94.7 416.49,-85.12 426.23,-76.08\"/>\n",
       "<polygon fill=\"black\" stroke=\"black\" points=\"428.56,-78.7 433.51,-69.33 423.8,-73.57 428.56,-78.7\"/>\n",
       "</g>\n",
       "</g>\n",
       "</svg>\n"
      ],
      "text/plain": [
       "<graphviz.sources.Source at 0x14a055630>"
      ]
     },
     "execution_count": 27,
     "metadata": {},
     "output_type": "execute_result"
    }
   ],
   "source": [
    "export_graphviz(\n",
    "    best_dt,\n",
    "    out_file=\"../reports/figures/tree.dot\",\n",
    "    feature_names=X.columns,\n",
    "    class_names=data.target_names,\n",
    "    rounded=True,\n",
    "    filled=True\n",
    ")\n",
    "with open(\"../reports/figures/tree.dot\") as f:\n",
    "    dot_graph = f.read()\n",
    "graphviz.Source(dot_graph)"
   ]
  }
 ],
 "metadata": {
  "kernelspec": {
   "display_name": ".venv (3.10.7)",
   "language": "python",
   "name": "python3"
  },
  "language_info": {
   "codemirror_mode": {
    "name": "ipython",
    "version": 3
   },
   "file_extension": ".py",
   "mimetype": "text/x-python",
   "name": "python",
   "nbconvert_exporter": "python",
   "pygments_lexer": "ipython3",
   "version": "3.10.7"
  }
 },
 "nbformat": 4,
 "nbformat_minor": 4
}
